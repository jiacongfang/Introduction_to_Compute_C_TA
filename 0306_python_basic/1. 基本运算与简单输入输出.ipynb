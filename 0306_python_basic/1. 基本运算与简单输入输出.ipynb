{
 "cells": [
  {
   "cell_type": "code",
   "execution_count": 1,
   "metadata": {},
   "outputs": [],
   "source": [
    "# 在左边栏目中安装jupyter插件\n",
    "# 在右上角选择解释器"
   ]
  },
  {
   "cell_type": "code",
   "execution_count": null,
   "metadata": {},
   "outputs": [],
   "source": [
    "# 在python中，整型、浮点型基本运算符有：+，-，*，/，//, %，**，+=，-=，*=，/=，//=，%=，**=，==，!=，>，<，>=，<=\n",
    "# 遵循数学运算法则，先乘除后加减，括号优先\n"
   ]
  },
  {
   "cell_type": "code",
   "execution_count": 2,
   "metadata": {},
   "outputs": [],
   "source": [
    "# / 与 // 的区别：/ 是除法，// 是整除\n",
    "a = 3 / 2 # 1.5\n",
    "a = 3 // 2 # 1\n",
    "# print(a)"
   ]
  },
  {
   "cell_type": "code",
   "execution_count": null,
   "metadata": {},
   "outputs": [],
   "source": [
    "# % 是取余数\n",
    "a = 3 % 2 # 1"
   ]
  },
  {
   "cell_type": "code",
   "execution_count": null,
   "metadata": {},
   "outputs": [],
   "source": [
    "# ** 是幂运算\n",
    "a = 2 ** 3 # 8"
   ]
  },
  {
   "cell_type": "code",
   "execution_count": 4,
   "metadata": {},
   "outputs": [],
   "source": [
    "\n",
    "# a += b等价于 a = a + b, 其它类似\n",
    "a = 1 # 如果删除了本语句，会发生什么\n",
    "a += 1 # 2 \n",
    "# print(a)\n",
    "a = a + 1 # 3\n",
    "# 后面可以跟任意运算\n",
    "a += 1 / 3\n",
    "# 但不可以出现以下形式\n",
    "# b = a += 1 # 语法错误"
   ]
  },
  {
   "cell_type": "code",
   "execution_count": null,
   "metadata": {},
   "outputs": [],
   "source": [
    "# == 是判断是否相等\n",
    "# 返回值是什么？\n",
    "a = 1 == 2 # False"
   ]
  },
  {
   "cell_type": "code",
   "execution_count": 5,
   "metadata": {},
   "outputs": [
    {
     "name": "stdout",
     "output_type": "stream",
     "text": [
      "<class 'int'>\n",
      "<class 'str'>\n",
      "<class 'float'>\n",
      "<class 'bool'>\n"
     ]
    }
   ],
   "source": [
    "# python的基本数据类型有：整型，浮点型，字符串，布尔型\n",
    "# 还有一些复杂数据类型，如列表，元组，字典，集合等\n",
    "# 怎么获取一个变量的类型？\n",
    "# type()函数\n",
    "a = 1\n",
    "print(type(a))\n",
    "a = \"1\"\n",
    "print(type(a))\n",
    "a = 1.0\n",
    "print(type(a))\n",
    "a = 1 == 1\n",
    "print(type(a))"
   ]
  },
  {
   "cell_type": "code",
   "execution_count": null,
   "metadata": {},
   "outputs": [],
   "source": [
    "# python中bool类型的基本运算有：and，or，not\n",
    "# and是逻辑与，or是逻辑或，not是逻辑非"
   ]
  },
  {
   "cell_type": "code",
   "execution_count": null,
   "metadata": {},
   "outputs": [],
   "source": [
    "# and运算符，只要有一个为False，结果就是False\n",
    "a = True and True # True\n",
    "a = True and False # False"
   ]
  },
  {
   "cell_type": "code",
   "execution_count": null,
   "metadata": {},
   "outputs": [],
   "source": [
    "# or运算符，只要有一个为True，结果就是True\n",
    "a = True or False # True\n",
    "a = False or False # False"
   ]
  },
  {
   "cell_type": "code",
   "execution_count": null,
   "metadata": {},
   "outputs": [],
   "source": [
    "# not运算符，True变False，False变True\n",
    "a = not True # False\n",
    "a = not False # True"
   ]
  },
  {
   "cell_type": "code",
   "execution_count": null,
   "metadata": {},
   "outputs": [],
   "source": [
    "# 逻辑运算符的优先级：not > and > or\n",
    "a = not True and False or True # True\n",
    "a = not (True and False) or True # True"
   ]
  },
  {
   "cell_type": "code",
   "execution_count": null,
   "metadata": {},
   "outputs": [],
   "source": [
    "# python中字符串的基本运算有：+，*，+=\n",
    "# + 是拼接字符串，* 是重复字符串，+= 是拼接字符串并赋值\n",
    "a = \"hello\" + \"world\" # helloworld\n",
    "a = \"hello\" * 3 # hellohellohello\n",
    "a = \"hello\"\n",
    "a += \"world\" # helloworld"
   ]
  },
  {
   "cell_type": "code",
   "execution_count": null,
   "metadata": {},
   "outputs": [],
   "source": [
    "# python中的数据类型转换\n",
    "# int()，float()，str()，bool()\n",
    "a = int(\"1\") # 1\n",
    "a = float(\"1\") # 1.0\n",
    "a = str(1) # \"1\"\n",
    "a = bool(1) # True\n",
    "a = bool(0) # False"
   ]
  },
  {
   "cell_type": "code",
   "execution_count": 6,
   "metadata": {},
   "outputs": [
    {
     "name": "stdout",
     "output_type": "stream",
     "text": [
      "234\n"
     ]
    }
   ],
   "source": [
    "# python中的输入输出\n",
    "# input()函数，获取用户输入\n",
    "# print()函数，输出内容\n",
    "a = input(\"请输入一个数字：\")\n",
    "print(a)\n",
    "# a此时的数据类型是什么？\n",
    "# print(type(a))"
   ]
  },
  {
   "cell_type": "code",
   "execution_count": null,
   "metadata": {},
   "outputs": [],
   "source": [
    "# 如果我想连续输入三个整数\n",
    "a = int(input(\"请输入一个数字：\"))\n",
    "b = int(input(\"请输入一个数字：\"))\n",
    "c = int(input(\"请输入一个数字：\"))\n",
    "\n",
    "# 另一种方法\n",
    "a, b, c = input(\"请输入三个数字，用空格隔开：\").split(\" \")\n",
    "print(a, b, c)\n",
    "\n",
    "# 高级\n",
    "# a, b, c = map(int, input(\"请输入三个数字，用空格隔开：\").split(\" \"))"
   ]
  },
  {
   "cell_type": "code",
   "execution_count": null,
   "metadata": {},
   "outputs": [],
   "source": [
    "# python的输出格式化\n",
    "# %s，%d，%f，%x\n",
    "a = \"hello\"\n",
    "b = 1\n",
    "c = 1.0\n",
    "d = 16\n",
    "print(\"a = %s, b = %d, c = %f, d = %x\" % (a, b, c, d))"
   ]
  },
  {
   "cell_type": "code",
   "execution_count": null,
   "metadata": {},
   "outputs": [],
   "source": [
    "# python的格式化字符串\n",
    "# f-string\n",
    "a = \"hello\"\n",
    "b = 1\n",
    "c = 1.0\n",
    "d = 16\n",
    "print(f\"a = {a}, b = {b}, c = {c}, d = {d}\")"
   ]
  },
  {
   "cell_type": "code",
   "execution_count": null,
   "metadata": {},
   "outputs": [],
   "source": [
    "# python输出两位或者四位小数\n",
    "a = 1.123456\n",
    "print(\"%.2f\" % a)\n",
    "print(\"%.4f\" % a)\n",
    "print(f\"{a:.2f}\")\n",
    "print(f\"{a:.4f}\")"
   ]
  },
  {
   "cell_type": "code",
   "execution_count": null,
   "metadata": {},
   "outputs": [],
   "source": [
    "# fomat()函数\n",
    "a = 1.123456\n",
    "print(\"{:.2f}\".format(a))\n",
    "print(\"{:.4f}\".format(a))\n",
    "\n",
    "# fomat()函数的高级用法\n",
    "a = 1\n",
    "b = 2\n",
    "c = 3\n",
    "print(\"{0} + {1} = {2}\".format(a, b, c))\n",
    "print(\"{a} + {b} = {c}\".format(a=a, b=b, c=c))"
   ]
  },
  {
   "cell_type": "code",
   "execution_count": null,
   "metadata": {},
   "outputs": [],
   "source": [
    "# 构造法输出\n",
    "a = 1 \n",
    "b = 2\n",
    "ans = str(a) + \" + \" + str(b) + \" = \" + str(a + b)\n",
    "print(ans)"
   ]
  },
  {
   "cell_type": "code",
   "execution_count": null,
   "metadata": {},
   "outputs": [],
   "source": [
    "# 题目要求：输入两个整数，输出两个整数的和\n",
    "# 1. 每行各一个整数\n",
    "\n",
    "# 2. 一行输入两个整数\n",
    "\n",
    "# 题目增加要求：按照格式”a + b = c”输出两个整数的和"
   ]
  },
  {
   "cell_type": "code",
   "execution_count": null,
   "metadata": {},
   "outputs": [],
   "source": [
    "# 例题讲解\n",
    "# 1:分离整数的各个数位\n",
    "# 描述\n",
    "# 从键盘输入一个任意的三位整数，要求正确地分离出它的百位、十位和个位数，并分别在屏幕上输出，输出采用每行输出一个数的方式，不带其它符号。\n",
    "\n",
    "# 输入\n",
    "# 一个任意的三位整数\n",
    "# 输出\n",
    "# 一个任意的三位整数\n",
    "# 样例输入\n",
    "# 123\n",
    "# 样例输出\n",
    "# 1\n",
    "# 2\n",
    "# 3\n",
    "\n",
    "num = int(input(\"\"))\n",
    "\n",
    "# 分离百位、十位和个位数\n",
    "hundreds = num // 100\n",
    "tens = (num // 10) % 10\n",
    "ones = num % 10\n",
    "\n",
    "# 输出结果\n",
    "print(hundreds)\n",
    "print(tens)\n",
    "print(ones)\n",
    "\n",
    "# 字符串操作"
   ]
  },
  {
   "cell_type": "code",
   "execution_count": null,
   "metadata": {},
   "outputs": [],
   "source": [
    "# 2:GPA计算简化版\n",
    "# 描述\n",
    "# 计算输入的百分制成绩x（60到100的整数）对应的绩点GPA.\n",
    "# 百分制分数转换绩点的公式如下：\n",
    "# 课程绩点=4-3*（100-X）**2/1600（60≤X≤100）\n",
    "# 其中：X为课程分数；100分绩点4.00，60分绩点1.00，60分以下绩点为0；\n",
    "\n",
    "# 输入\n",
    "# 一个整数，代表百分制成绩，本题案例无小于60的分数输入。\n",
    "# 输出\n",
    "# 计算得到的GPA，输出结果保留两位小数\n",
    "# 样例输入\n",
    "# 90\n",
    "# 样例输出\n",
    "# 3.81\n",
    "\n",
    "score = int(input(\"\"))\n",
    "\n",
    "if score >= 60 and score <= 100: \n",
    "    gpa = 4 - 3 * (100 - score) ** 2 / 1600 \n",
    "else: \n",
    "    gpa = 0\n",
    "\n",
    "print(\"{:.2f}\".format(gpa))"
   ]
  },
  {
   "cell_type": "code",
   "execution_count": null,
   "metadata": {},
   "outputs": [],
   "source": [
    "# python的注释\n",
    "# 单行注释，快捷键：ctrl + /\n",
    "\n",
    "\"\"\"\n",
    "多行注释\n",
    "多行注释\n",
    "多行注释\n",
    "\"\"\"\n",
    "\n",
    "# 三个引号也可以用来定义多行字符串\n",
    "a = \"\"\"\n",
    "hello\n",
    "world\n",
    "\"\"\""
   ]
  }
 ],
 "metadata": {
  "kernelspec": {
   "display_name": "intro_c",
   "language": "python",
   "name": "python3"
  },
  "language_info": {
   "codemirror_mode": {
    "name": "ipython",
    "version": 3
   },
   "file_extension": ".py",
   "mimetype": "text/x-python",
   "name": "python",
   "nbconvert_exporter": "python",
   "pygments_lexer": "ipython3",
   "version": "3.8.20"
  }
 },
 "nbformat": 4,
 "nbformat_minor": 2
}
